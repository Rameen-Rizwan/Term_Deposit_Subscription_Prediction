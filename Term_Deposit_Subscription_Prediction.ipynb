{
 "cells": [
  {
   "cell_type": "markdown",
   "id": "fef007b1-e3be-45da-806b-4340c566d2b7",
   "metadata": {},
   "source": [
    "# Introduction: Term Deposit Subscription Prediction"
   ]
  },
  {
   "cell_type": "markdown",
   "id": "6ce5cd54-4685-436d-a386-54701381d534",
   "metadata": {},
   "source": [
    "## Objective: Predict whether a bank customer will subscribe to a term deposit as a result of a marketing campaign"
   ]
  },
  {
   "cell_type": "markdown",
   "id": "84850d8c-3bea-43cb-a256-e6806ee7798f",
   "metadata": {},
   "source": [
    "### Objective 1: Import Libraries"
   ]
  },
  {
   "cell_type": "code",
   "execution_count": 15,
   "id": "1e1cd2bf-75cd-4f07-a9db-a0a5ea809857",
   "metadata": {},
   "outputs": [
    {
     "name": "stdout",
     "output_type": "stream",
     "text": [
      "✅ Libraries imported successfully.\n"
     ]
    }
   ],
   "source": [
    "# ===============================\n",
    "# STEP 1: Import Required Libraries\n",
    "# ===============================\n",
    "import pandas as pd\n",
    "import numpy as np\n",
    "import requests\n",
    "import zipfile\n",
    "import io\n",
    "import matplotlib.pyplot as plt\n",
    "import seaborn as sns\n",
    "import shap\n",
    "import warnings\n",
    "\n",
    "from sklearn.model_selection import train_test_split\n",
    "from sklearn.preprocessing import StandardScaler, OneHotEncoder\n",
    "from sklearn.compose import ColumnTransformer\n",
    "from sklearn.pipeline import Pipeline\n",
    "from sklearn.metrics import (\n",
    "    classification_report, confusion_matrix, f1_score,\n",
    "    precision_recall_curve, roc_curve, auc, accuracy_score\n",
    ")\n",
    "\n",
    "from sklearn.linear_model import LogisticRegression\n",
    "from sklearn.ensemble import RandomForestClassifier\n",
    "from imblearn.over_sampling import SMOTE\n",
    "\n",
    "import lime\n",
    "import lime.lime_tabular\n",
    "from IPython.display import display\n",
    "\n",
    "warnings.filterwarnings(\"ignore\")\n",
    "print(\"✅ Libraries imported successfully.\")"
   ]
  },
  {
   "cell_type": "markdown",
   "id": "1b728337-e690-4d70-84a5-a0d04800ef21",
   "metadata": {},
   "source": [
    "### Objective 2: Load dataset"
   ]
  },
  {
   "cell_type": "code",
   "execution_count": 16,
   "id": "622e4b7b-93a9-4b60-bd43-9027721f5669",
   "metadata": {},
   "outputs": [
    {
     "name": "stdout",
     "output_type": "stream",
     "text": [
      "✅ Dataset loaded successfully!\n",
      "📌 First 5 rows:\n"
     ]
    },
    {
     "data": {
      "text/html": [
       "<div>\n",
       "<style scoped>\n",
       "    .dataframe tbody tr th:only-of-type {\n",
       "        vertical-align: middle;\n",
       "    }\n",
       "\n",
       "    .dataframe tbody tr th {\n",
       "        vertical-align: top;\n",
       "    }\n",
       "\n",
       "    .dataframe thead th {\n",
       "        text-align: right;\n",
       "    }\n",
       "</style>\n",
       "<table border=\"1\" class=\"dataframe\">\n",
       "  <thead>\n",
       "    <tr style=\"text-align: right;\">\n",
       "      <th></th>\n",
       "      <th>age</th>\n",
       "      <th>job</th>\n",
       "      <th>marital</th>\n",
       "      <th>education</th>\n",
       "      <th>default</th>\n",
       "      <th>housing</th>\n",
       "      <th>loan</th>\n",
       "      <th>contact</th>\n",
       "      <th>month</th>\n",
       "      <th>day_of_week</th>\n",
       "      <th>...</th>\n",
       "      <th>campaign</th>\n",
       "      <th>pdays</th>\n",
       "      <th>previous</th>\n",
       "      <th>poutcome</th>\n",
       "      <th>emp.var.rate</th>\n",
       "      <th>cons.price.idx</th>\n",
       "      <th>cons.conf.idx</th>\n",
       "      <th>euribor3m</th>\n",
       "      <th>nr.employed</th>\n",
       "      <th>y</th>\n",
       "    </tr>\n",
       "  </thead>\n",
       "  <tbody>\n",
       "    <tr>\n",
       "      <th>0</th>\n",
       "      <td>30</td>\n",
       "      <td>blue-collar</td>\n",
       "      <td>married</td>\n",
       "      <td>basic.9y</td>\n",
       "      <td>no</td>\n",
       "      <td>yes</td>\n",
       "      <td>no</td>\n",
       "      <td>cellular</td>\n",
       "      <td>may</td>\n",
       "      <td>fri</td>\n",
       "      <td>...</td>\n",
       "      <td>2</td>\n",
       "      <td>999</td>\n",
       "      <td>0</td>\n",
       "      <td>nonexistent</td>\n",
       "      <td>-1.8</td>\n",
       "      <td>92.893</td>\n",
       "      <td>-46.2</td>\n",
       "      <td>1.313</td>\n",
       "      <td>5099.1</td>\n",
       "      <td>no</td>\n",
       "    </tr>\n",
       "    <tr>\n",
       "      <th>1</th>\n",
       "      <td>39</td>\n",
       "      <td>services</td>\n",
       "      <td>single</td>\n",
       "      <td>high.school</td>\n",
       "      <td>no</td>\n",
       "      <td>no</td>\n",
       "      <td>no</td>\n",
       "      <td>telephone</td>\n",
       "      <td>may</td>\n",
       "      <td>fri</td>\n",
       "      <td>...</td>\n",
       "      <td>4</td>\n",
       "      <td>999</td>\n",
       "      <td>0</td>\n",
       "      <td>nonexistent</td>\n",
       "      <td>1.1</td>\n",
       "      <td>93.994</td>\n",
       "      <td>-36.4</td>\n",
       "      <td>4.855</td>\n",
       "      <td>5191.0</td>\n",
       "      <td>no</td>\n",
       "    </tr>\n",
       "    <tr>\n",
       "      <th>2</th>\n",
       "      <td>25</td>\n",
       "      <td>services</td>\n",
       "      <td>married</td>\n",
       "      <td>high.school</td>\n",
       "      <td>no</td>\n",
       "      <td>yes</td>\n",
       "      <td>no</td>\n",
       "      <td>telephone</td>\n",
       "      <td>jun</td>\n",
       "      <td>wed</td>\n",
       "      <td>...</td>\n",
       "      <td>1</td>\n",
       "      <td>999</td>\n",
       "      <td>0</td>\n",
       "      <td>nonexistent</td>\n",
       "      <td>1.4</td>\n",
       "      <td>94.465</td>\n",
       "      <td>-41.8</td>\n",
       "      <td>4.962</td>\n",
       "      <td>5228.1</td>\n",
       "      <td>no</td>\n",
       "    </tr>\n",
       "    <tr>\n",
       "      <th>3</th>\n",
       "      <td>38</td>\n",
       "      <td>services</td>\n",
       "      <td>married</td>\n",
       "      <td>basic.9y</td>\n",
       "      <td>no</td>\n",
       "      <td>unknown</td>\n",
       "      <td>unknown</td>\n",
       "      <td>telephone</td>\n",
       "      <td>jun</td>\n",
       "      <td>fri</td>\n",
       "      <td>...</td>\n",
       "      <td>3</td>\n",
       "      <td>999</td>\n",
       "      <td>0</td>\n",
       "      <td>nonexistent</td>\n",
       "      <td>1.4</td>\n",
       "      <td>94.465</td>\n",
       "      <td>-41.8</td>\n",
       "      <td>4.959</td>\n",
       "      <td>5228.1</td>\n",
       "      <td>no</td>\n",
       "    </tr>\n",
       "    <tr>\n",
       "      <th>4</th>\n",
       "      <td>47</td>\n",
       "      <td>admin.</td>\n",
       "      <td>married</td>\n",
       "      <td>university.degree</td>\n",
       "      <td>no</td>\n",
       "      <td>yes</td>\n",
       "      <td>no</td>\n",
       "      <td>cellular</td>\n",
       "      <td>nov</td>\n",
       "      <td>mon</td>\n",
       "      <td>...</td>\n",
       "      <td>1</td>\n",
       "      <td>999</td>\n",
       "      <td>0</td>\n",
       "      <td>nonexistent</td>\n",
       "      <td>-0.1</td>\n",
       "      <td>93.200</td>\n",
       "      <td>-42.0</td>\n",
       "      <td>4.191</td>\n",
       "      <td>5195.8</td>\n",
       "      <td>no</td>\n",
       "    </tr>\n",
       "  </tbody>\n",
       "</table>\n",
       "<p>5 rows × 21 columns</p>\n",
       "</div>"
      ],
      "text/plain": [
       "   age          job  marital          education default  housing     loan  \\\n",
       "0   30  blue-collar  married           basic.9y      no      yes       no   \n",
       "1   39     services   single        high.school      no       no       no   \n",
       "2   25     services  married        high.school      no      yes       no   \n",
       "3   38     services  married           basic.9y      no  unknown  unknown   \n",
       "4   47       admin.  married  university.degree      no      yes       no   \n",
       "\n",
       "     contact month day_of_week  ...  campaign  pdays  previous     poutcome  \\\n",
       "0   cellular   may         fri  ...         2    999         0  nonexistent   \n",
       "1  telephone   may         fri  ...         4    999         0  nonexistent   \n",
       "2  telephone   jun         wed  ...         1    999         0  nonexistent   \n",
       "3  telephone   jun         fri  ...         3    999         0  nonexistent   \n",
       "4   cellular   nov         mon  ...         1    999         0  nonexistent   \n",
       "\n",
       "  emp.var.rate  cons.price.idx  cons.conf.idx  euribor3m  nr.employed   y  \n",
       "0         -1.8          92.893          -46.2      1.313       5099.1  no  \n",
       "1          1.1          93.994          -36.4      4.855       5191.0  no  \n",
       "2          1.4          94.465          -41.8      4.962       5228.1  no  \n",
       "3          1.4          94.465          -41.8      4.959       5228.1  no  \n",
       "4         -0.1          93.200          -42.0      4.191       5195.8  no  \n",
       "\n",
       "[5 rows x 21 columns]"
      ]
     },
     "metadata": {},
     "output_type": "display_data"
    }
   ],
   "source": [
    "# ===============================\n",
    "# STEP 2: Load Dataset\n",
    "# ===============================\n",
    "zip_url = \"https://archive.ics.uci.edu/ml/machine-learning-databases/00222/bank-additional.zip\"\n",
    "r = requests.get(zip_url)\n",
    "z = zipfile.ZipFile(io.BytesIO(r.content))\n",
    "file_name = \"bank-additional/bank-additional.csv\"\n",
    "\n",
    "with z.open(file_name) as f:\n",
    "    df = pd.read_csv(f, sep=';')\n",
    "\n",
    "print(\"✅ Dataset loaded successfully!\")\n",
    "print(\"📌 First 5 rows:\")\n",
    "display(df.head())"
   ]
  },
  {
   "cell_type": "markdown",
   "id": "350c52cc-254b-4811-ab3b-f034b0969402",
   "metadata": {},
   "source": [
    "### Objective 3: Explore dataset"
   ]
  },
  {
   "cell_type": "code",
   "execution_count": 17,
   "id": "1c50e084-f525-4992-80ed-78cc033fc15e",
   "metadata": {},
   "outputs": [
    {
     "name": "stdout",
     "output_type": "stream",
     "text": [
      "📌 Shape: (4119, 21)\n"
     ]
    }
   ],
   "source": [
    "#Shape Of Dataset\n",
    "print(\"📌 Shape:\", df.shape)"
   ]
  },
  {
   "cell_type": "code",
   "execution_count": 18,
   "id": "0d36e918-7835-43db-adfe-70833976b46f",
   "metadata": {},
   "outputs": [
    {
     "name": "stdout",
     "output_type": "stream",
     "text": [
      "=== Dataset Information ===\n",
      "<class 'pandas.core.frame.DataFrame'>\n",
      "RangeIndex: 4119 entries, 0 to 4118\n",
      "Data columns (total 21 columns):\n",
      " #   Column          Non-Null Count  Dtype  \n",
      "---  ------          --------------  -----  \n",
      " 0   age             4119 non-null   int64  \n",
      " 1   job             4119 non-null   object \n",
      " 2   marital         4119 non-null   object \n",
      " 3   education       4119 non-null   object \n",
      " 4   default         4119 non-null   object \n",
      " 5   housing         4119 non-null   object \n",
      " 6   loan            4119 non-null   object \n",
      " 7   contact         4119 non-null   object \n",
      " 8   month           4119 non-null   object \n",
      " 9   day_of_week     4119 non-null   object \n",
      " 10  duration        4119 non-null   int64  \n",
      " 11  campaign        4119 non-null   int64  \n",
      " 12  pdays           4119 non-null   int64  \n",
      " 13  previous        4119 non-null   int64  \n",
      " 14  poutcome        4119 non-null   object \n",
      " 15  emp.var.rate    4119 non-null   float64\n",
      " 16  cons.price.idx  4119 non-null   float64\n",
      " 17  cons.conf.idx   4119 non-null   float64\n",
      " 18  euribor3m       4119 non-null   float64\n",
      " 19  nr.employed     4119 non-null   float64\n",
      " 20  y               4119 non-null   object \n",
      "dtypes: float64(5), int64(5), object(11)\n",
      "memory usage: 675.9+ KB\n",
      "\n"
     ]
    }
   ],
   "source": [
    "import io\n",
    "\n",
    "print(\"=== Dataset Information ===\")\n",
    "buf = io.StringIO()\n",
    "df.info(buf=buf)\n",
    "info_str = buf.getvalue()\n",
    "print(info_str)"
   ]
  },
  {
   "cell_type": "code",
   "execution_count": 19,
   "id": "4823a417-8efc-43dc-bb9d-024c10a496b4",
   "metadata": {},
   "outputs": [
    {
     "name": "stdout",
     "output_type": "stream",
     "text": [
      "\n",
      "📌 Output: Missing Values in Each Column\n",
      "age               0\n",
      "job               0\n",
      "marital           0\n",
      "education         0\n",
      "default           0\n",
      "housing           0\n",
      "loan              0\n",
      "contact           0\n",
      "month             0\n",
      "day_of_week       0\n",
      "duration          0\n",
      "campaign          0\n",
      "pdays             0\n",
      "previous          0\n",
      "poutcome          0\n",
      "emp.var.rate      0\n",
      "cons.price.idx    0\n",
      "cons.conf.idx     0\n",
      "euribor3m         0\n",
      "nr.employed       0\n",
      "y                 0\n",
      "dtype: int64\n"
     ]
    }
   ],
   "source": [
    "print(\"\\n📌 Output: Missing Values in Each Column\")\n",
    "print(df.isnull().sum())"
   ]
  },
  {
   "cell_type": "markdown",
   "id": "58b58df0-7f48-4d1e-b403-965924573845",
   "metadata": {},
   "source": [
    "### Objective 4: Feature & Target Split"
   ]
  },
  {
   "cell_type": "code",
   "execution_count": 20,
   "id": "e4edcbf4-8286-4927-86d6-a194c89ff389",
   "metadata": {},
   "outputs": [
    {
     "name": "stdout",
     "output_type": "stream",
     "text": [
      "=== Features (X) Preview ===\n"
     ]
    },
    {
     "data": {
      "text/html": [
       "<div>\n",
       "<style scoped>\n",
       "    .dataframe tbody tr th:only-of-type {\n",
       "        vertical-align: middle;\n",
       "    }\n",
       "\n",
       "    .dataframe tbody tr th {\n",
       "        vertical-align: top;\n",
       "    }\n",
       "\n",
       "    .dataframe thead th {\n",
       "        text-align: right;\n",
       "    }\n",
       "</style>\n",
       "<table border=\"1\" class=\"dataframe\">\n",
       "  <thead>\n",
       "    <tr style=\"text-align: right;\">\n",
       "      <th></th>\n",
       "      <th>age</th>\n",
       "      <th>job</th>\n",
       "      <th>marital</th>\n",
       "      <th>education</th>\n",
       "      <th>default</th>\n",
       "      <th>housing</th>\n",
       "      <th>loan</th>\n",
       "      <th>contact</th>\n",
       "      <th>month</th>\n",
       "      <th>day_of_week</th>\n",
       "      <th>duration</th>\n",
       "      <th>campaign</th>\n",
       "      <th>pdays</th>\n",
       "      <th>previous</th>\n",
       "      <th>poutcome</th>\n",
       "      <th>emp.var.rate</th>\n",
       "      <th>cons.price.idx</th>\n",
       "      <th>cons.conf.idx</th>\n",
       "      <th>euribor3m</th>\n",
       "      <th>nr.employed</th>\n",
       "    </tr>\n",
       "  </thead>\n",
       "  <tbody>\n",
       "    <tr>\n",
       "      <th>0</th>\n",
       "      <td>30</td>\n",
       "      <td>blue-collar</td>\n",
       "      <td>married</td>\n",
       "      <td>basic.9y</td>\n",
       "      <td>no</td>\n",
       "      <td>yes</td>\n",
       "      <td>no</td>\n",
       "      <td>cellular</td>\n",
       "      <td>may</td>\n",
       "      <td>fri</td>\n",
       "      <td>487</td>\n",
       "      <td>2</td>\n",
       "      <td>999</td>\n",
       "      <td>0</td>\n",
       "      <td>nonexistent</td>\n",
       "      <td>-1.8</td>\n",
       "      <td>92.893</td>\n",
       "      <td>-46.2</td>\n",
       "      <td>1.313</td>\n",
       "      <td>5099.1</td>\n",
       "    </tr>\n",
       "    <tr>\n",
       "      <th>1</th>\n",
       "      <td>39</td>\n",
       "      <td>services</td>\n",
       "      <td>single</td>\n",
       "      <td>high.school</td>\n",
       "      <td>no</td>\n",
       "      <td>no</td>\n",
       "      <td>no</td>\n",
       "      <td>telephone</td>\n",
       "      <td>may</td>\n",
       "      <td>fri</td>\n",
       "      <td>346</td>\n",
       "      <td>4</td>\n",
       "      <td>999</td>\n",
       "      <td>0</td>\n",
       "      <td>nonexistent</td>\n",
       "      <td>1.1</td>\n",
       "      <td>93.994</td>\n",
       "      <td>-36.4</td>\n",
       "      <td>4.855</td>\n",
       "      <td>5191.0</td>\n",
       "    </tr>\n",
       "    <tr>\n",
       "      <th>2</th>\n",
       "      <td>25</td>\n",
       "      <td>services</td>\n",
       "      <td>married</td>\n",
       "      <td>high.school</td>\n",
       "      <td>no</td>\n",
       "      <td>yes</td>\n",
       "      <td>no</td>\n",
       "      <td>telephone</td>\n",
       "      <td>jun</td>\n",
       "      <td>wed</td>\n",
       "      <td>227</td>\n",
       "      <td>1</td>\n",
       "      <td>999</td>\n",
       "      <td>0</td>\n",
       "      <td>nonexistent</td>\n",
       "      <td>1.4</td>\n",
       "      <td>94.465</td>\n",
       "      <td>-41.8</td>\n",
       "      <td>4.962</td>\n",
       "      <td>5228.1</td>\n",
       "    </tr>\n",
       "    <tr>\n",
       "      <th>3</th>\n",
       "      <td>38</td>\n",
       "      <td>services</td>\n",
       "      <td>married</td>\n",
       "      <td>basic.9y</td>\n",
       "      <td>no</td>\n",
       "      <td>unknown</td>\n",
       "      <td>unknown</td>\n",
       "      <td>telephone</td>\n",
       "      <td>jun</td>\n",
       "      <td>fri</td>\n",
       "      <td>17</td>\n",
       "      <td>3</td>\n",
       "      <td>999</td>\n",
       "      <td>0</td>\n",
       "      <td>nonexistent</td>\n",
       "      <td>1.4</td>\n",
       "      <td>94.465</td>\n",
       "      <td>-41.8</td>\n",
       "      <td>4.959</td>\n",
       "      <td>5228.1</td>\n",
       "    </tr>\n",
       "    <tr>\n",
       "      <th>4</th>\n",
       "      <td>47</td>\n",
       "      <td>admin.</td>\n",
       "      <td>married</td>\n",
       "      <td>university.degree</td>\n",
       "      <td>no</td>\n",
       "      <td>yes</td>\n",
       "      <td>no</td>\n",
       "      <td>cellular</td>\n",
       "      <td>nov</td>\n",
       "      <td>mon</td>\n",
       "      <td>58</td>\n",
       "      <td>1</td>\n",
       "      <td>999</td>\n",
       "      <td>0</td>\n",
       "      <td>nonexistent</td>\n",
       "      <td>-0.1</td>\n",
       "      <td>93.200</td>\n",
       "      <td>-42.0</td>\n",
       "      <td>4.191</td>\n",
       "      <td>5195.8</td>\n",
       "    </tr>\n",
       "  </tbody>\n",
       "</table>\n",
       "</div>"
      ],
      "text/plain": [
       "   age          job  marital          education default  housing     loan  \\\n",
       "0   30  blue-collar  married           basic.9y      no      yes       no   \n",
       "1   39     services   single        high.school      no       no       no   \n",
       "2   25     services  married        high.school      no      yes       no   \n",
       "3   38     services  married           basic.9y      no  unknown  unknown   \n",
       "4   47       admin.  married  university.degree      no      yes       no   \n",
       "\n",
       "     contact month day_of_week  duration  campaign  pdays  previous  \\\n",
       "0   cellular   may         fri       487         2    999         0   \n",
       "1  telephone   may         fri       346         4    999         0   \n",
       "2  telephone   jun         wed       227         1    999         0   \n",
       "3  telephone   jun         fri        17         3    999         0   \n",
       "4   cellular   nov         mon        58         1    999         0   \n",
       "\n",
       "      poutcome  emp.var.rate  cons.price.idx  cons.conf.idx  euribor3m  \\\n",
       "0  nonexistent          -1.8          92.893          -46.2      1.313   \n",
       "1  nonexistent           1.1          93.994          -36.4      4.855   \n",
       "2  nonexistent           1.4          94.465          -41.8      4.962   \n",
       "3  nonexistent           1.4          94.465          -41.8      4.959   \n",
       "4  nonexistent          -0.1          93.200          -42.0      4.191   \n",
       "\n",
       "   nr.employed  \n",
       "0       5099.1  \n",
       "1       5191.0  \n",
       "2       5228.1  \n",
       "3       5228.1  \n",
       "4       5195.8  "
      ]
     },
     "metadata": {},
     "output_type": "display_data"
    },
    {
     "name": "stdout",
     "output_type": "stream",
     "text": [
      "\n",
      "=== Target (y) Preview ===\n",
      "   Target\n",
      "0       0\n",
      "1       0\n",
      "2       0\n",
      "3       0\n",
      "4       0\n"
     ]
    }
   ],
   "source": [
    "# 📌 Splitting features (X) and target (y)\n",
    "X = df.drop(\"y\", axis=1)   # Features\n",
    "y = df[\"y\"].map({\"yes\": 1, \"no\": 0})   # Target (manually encoded yes→1, no→0)\n",
    "\n",
    "print(\"=== Features (X) Preview ===\")\n",
    "display(X.head()) \n",
    "\n",
    "print(\"\\n=== Target (y) Preview ===\")\n",
    "print(y.head().to_frame().rename(columns={\"y\": \"Target\"}))"
   ]
  },
  {
   "cell_type": "markdown",
   "id": "ddedcc28-530b-4340-92f2-e1df80c2385b",
   "metadata": {},
   "source": [
    "### Objective 5: Identify Column Types"
   ]
  },
  {
   "cell_type": "code",
   "execution_count": 21,
   "id": "31443cc5-6ae4-4df7-adfc-6189bf0ee162",
   "metadata": {},
   "outputs": [
    {
     "name": "stdout",
     "output_type": "stream",
     "text": [
      "=== Column Types ===\n",
      "Categorical Columns (10):\n",
      "  - job\n",
      "  - marital\n",
      "  - education\n",
      "  - default\n",
      "  - housing\n",
      "  - loan\n",
      "  - contact\n",
      "  - month\n",
      "  - day_of_week\n",
      "  - poutcome\n",
      "\n",
      "Numerical Columns (10):\n",
      "  - age\n",
      "  - duration\n",
      "  - campaign\n",
      "  - pdays\n",
      "  - previous\n",
      "  - emp.var.rate\n",
      "  - cons.price.idx\n",
      "  - cons.conf.idx\n",
      "  - euribor3m\n",
      "  - nr.employed\n"
     ]
    }
   ],
   "source": [
    "# Identifying categorical & numerical columns\n",
    "categorical_cols = X.select_dtypes(include=['object']).columns.tolist()\n",
    "numerical_cols = X.select_dtypes(exclude=['object']).columns.tolist()\n",
    "\n",
    "print(\"=== Column Types ===\")\n",
    "print(f\"Categorical Columns ({len(categorical_cols)}):\")\n",
    "for col in categorical_cols:\n",
    "    print(f\"  - {col}\")\n",
    "\n",
    "print(f\"\\nNumerical Columns ({len(numerical_cols)}):\")\n",
    "for col in numerical_cols:\n",
    "    print(f\"  - {col}\")"
   ]
  },
  {
   "cell_type": "markdown",
   "id": "ccb52fc9-6bf4-46bf-ab47-fa850b7cbf6d",
   "metadata": {},
   "source": [
    "### Objective 6: Define Transformers"
   ]
  },
  {
   "cell_type": "code",
   "execution_count": 22,
   "id": "265ee455-5224-4dbe-a03b-477521be240a",
   "metadata": {},
   "outputs": [
    {
     "name": "stdout",
     "output_type": "stream",
     "text": [
      "=== Transformers Defined ===\n",
      "OneHotEncoder will be applied to categorical columns:\n",
      "  - job\n",
      "  - marital\n",
      "  - education\n",
      "  - default\n",
      "  - housing\n",
      "  - loan\n",
      "  - contact\n",
      "  - month\n",
      "  - day_of_week\n",
      "  - poutcome\n",
      "\n",
      "StandardScaler will be applied to numerical columns:\n",
      "  - age\n",
      "  - duration\n",
      "  - campaign\n",
      "  - pdays\n",
      "  - previous\n",
      "  - emp.var.rate\n",
      "  - cons.price.idx\n",
      "  - cons.conf.idx\n",
      "  - euribor3m\n",
      "  - nr.employed\n"
     ]
    }
   ],
   "source": [
    "# Defining transformers (encoding & scaling)\n",
    "categorical_transformer = OneHotEncoder(handle_unknown=\"ignore\")\n",
    "numerical_transformer = StandardScaler()\n",
    "\n",
    "print(\"=== Transformers Defined ===\")\n",
    "print(\"OneHotEncoder will be applied to categorical columns:\")\n",
    "for col in categorical_cols:\n",
    "    print(f\"  - {col}\")\n",
    "\n",
    "print(\"\\nStandardScaler will be applied to numerical columns:\")\n",
    "for col in numerical_cols:\n",
    "    print(f\"  - {col}\")"
   ]
  },
  {
   "cell_type": "markdown",
   "id": "6e07af8a-9674-4872-b816-f3fa4f1300ca",
   "metadata": {},
   "source": [
    "### Objective 7: Define Preprocessor"
   ]
  },
  {
   "cell_type": "code",
   "execution_count": 23,
   "id": "af2f0462-2188-437a-aa3c-51ab553a8c0c",
   "metadata": {},
   "outputs": [
    {
     "name": "stdout",
     "output_type": "stream",
     "text": [
      "✅ Preprocessor defined (but not applied yet)\n"
     ]
    }
   ],
   "source": [
    "# Defining the ColumnTransformer (encoding/scaling setup)\n",
    "preprocessor = ColumnTransformer(\n",
    "    transformers=[\n",
    "        ('num', numerical_transformer, numerical_cols),\n",
    "        ('cat', categorical_transformer, categorical_cols)\n",
    "    ]\n",
    ")\n",
    "\n",
    "print(\"✅ Preprocessor defined (but not applied yet)\")"
   ]
  },
  {
   "cell_type": "markdown",
   "id": "e83cda9f-1568-467e-85d3-afc263eeeedf",
   "metadata": {},
   "source": [
    "### Objective 8: Train/Test Split"
   ]
  },
  {
   "cell_type": "code",
   "execution_count": 27,
   "id": "99254878-980e-49df-bb16-79487671cb62",
   "metadata": {},
   "outputs": [
    {
     "name": "stdout",
     "output_type": "stream",
     "text": [
      "✅ Train feature shape: (3295, 20)\n",
      "✅ Test feature shape: (824, 20)\n"
     ]
    }
   ],
   "source": [
    "# Splitting dataset into Train/Test sets\n",
    "from sklearn.model_selection import train_test_split\n",
    "\n",
    "X_train, X_test, y_train, y_test = train_test_split(\n",
    "    X, y, test_size=0.2, stratify=y, random_state=42\n",
    ")\n",
    "\n",
    "print(\"✅ Train feature shape:\", X_train.shape)\n",
    "print(\"✅ Test feature shape:\", X_test.shape)"
   ]
  },
  {
   "cell_type": "code",
   "execution_count": 28,
   "id": "8b912250-c621-4789-9bfb-7ed971f2c127",
   "metadata": {},
   "outputs": [
    {
     "name": "stdout",
     "output_type": "stream",
     "text": [
      "\n",
      "📌 Train Target Distribution:\n",
      " y\n",
      "0    2934\n",
      "1     361\n",
      "Name: count, dtype: int64\n",
      "\n",
      "📌 Test Target Distribution:\n",
      " y\n",
      "0    734\n",
      "1     90\n",
      "Name: count, dtype: int64\n"
     ]
    }
   ],
   "source": [
    "# 📌 Checking target distribution after split\n",
    "print(\"\\n📌 Train Target Distribution:\\n\", y_train.value_counts())\n",
    "print(\"\\n📌 Test Target Distribution:\\n\", y_test.value_counts())"
   ]
  },
  {
   "cell_type": "markdown",
   "id": "9a4d8d9e-fe13-4adc-b918-fadbee75c74f",
   "metadata": {},
   "source": [
    "### Objective 9: Logistic Regression - Model Setup"
   ]
  },
  {
   "cell_type": "code",
   "execution_count": 29,
   "id": "7035cae8-5e1c-468b-bad8-a76fbdbb41f4",
   "metadata": {},
   "outputs": [
    {
     "name": "stdout",
     "output_type": "stream",
     "text": [
      "✅ Logistic Regression (with SMOTE) trained successfully!\n",
      "✅ Train Accuracy: 0.8762\n",
      "✅ Test Accuracy: 0.8811\n"
     ]
    }
   ],
   "source": [
    "from imblearn.pipeline import Pipeline as ImbPipeline\n",
    "from imblearn.over_sampling import SMOTE\n",
    "from sklearn.model_selection import GridSearchCV\n",
    "\n",
    "# ================================\n",
    "# Step 4: Logistic Regression with SMOTE + Tuning\n",
    "# ================================\n",
    "\n",
    "# Build pipeline with preprocessing + SMOTE + classifier\n",
    "log_reg_pipeline = ImbPipeline(steps=[\n",
    "    ('preprocessor', preprocessor),\n",
    "    ('smote', SMOTE(random_state=42)),\n",
    "    ('classifier', LogisticRegression(max_iter=1000, class_weight=\"balanced\", random_state=42))\n",
    "])\n",
    "\n",
    "# Baseline model training\n",
    "log_reg_pipeline.fit(X_train, y_train)\n",
    "train_acc_lr = log_reg_pipeline.score(X_train, y_train)\n",
    "test_acc_lr = log_reg_pipeline.score(X_test, y_test)\n",
    "\n",
    "print(\"✅ Logistic Regression (with SMOTE) trained successfully!\")\n",
    "print(f\"✅ Train Accuracy: {train_acc_lr:.4f}\")\n",
    "print(f\"✅ Test Accuracy: {test_acc_lr:.4f}\")"
   ]
  },
  {
   "cell_type": "markdown",
   "id": "d3045bd8-c8cd-4653-b0c6-782bd9a10c9c",
   "metadata": {},
   "source": [
    "### Objective 10: After Tuning Accuracy"
   ]
  },
  {
   "cell_type": "code",
   "execution_count": 30,
   "id": "30392671-0409-471b-a455-dabc803434b0",
   "metadata": {},
   "outputs": [
    {
     "name": "stdout",
     "output_type": "stream",
     "text": [
      "✅ Tuned Logistic Regression Model Successfully!\n",
      "🔹 Best Parameters: {'classifier__C': 1, 'classifier__max_iter': 500, 'classifier__solver': 'liblinear'}\n",
      "✅ Tuned Train Accuracy: 0.8768\n",
      "✅ Tuned Test Accuracy: 0.8811\n"
     ]
    }
   ],
   "source": [
    "# Hyperparameter tuning with GridSearch\n",
    "param_grid = {\n",
    "    'classifier__C': [0.01, 0.1, 1, 10, 100],\n",
    "    'classifier__solver': ['liblinear', 'saga'],\n",
    "    'classifier__max_iter': [500, 1000]\n",
    "}\n",
    "\n",
    "grid_search = GridSearchCV(estimator=log_reg_pipeline,\n",
    "                           param_grid=param_grid,\n",
    "                           scoring='accuracy',\n",
    "                           cv=5,\n",
    "                           n_jobs=-1)\n",
    "\n",
    "grid_search.fit(X_train, y_train)\n",
    "\n",
    "# Best tuned model\n",
    "best_log_reg_pipeline = grid_search.best_estimator_\n",
    "train_acc_lr_tuned = best_log_reg_pipeline.score(X_train, y_train)\n",
    "test_acc_lr_tuned = best_log_reg_pipeline.score(X_test, y_test)\n",
    "\n",
    "print(\"✅ Tuned Logistic Regression Model Successfully!\")\n",
    "print(f\"🔹 Best Parameters: {grid_search.best_params_}\")\n",
    "print(f\"✅ Tuned Train Accuracy: {train_acc_lr_tuned:.4f}\")\n",
    "print(f\"✅ Tuned Test Accuracy: {test_acc_lr_tuned:.4f}\")"
   ]
  },
  {
   "cell_type": "markdown",
   "id": "0c2ef19b-d01b-40c6-b9fc-ca66add942ea",
   "metadata": {},
   "source": [
    "### Objective 11: Prediction Of Logistic Model"
   ]
  },
  {
   "cell_type": "code",
   "execution_count": 20,
   "id": "70c28ca2-f214-477f-b4db-933aac0159f9",
   "metadata": {},
   "outputs": [
    {
     "name": "stdout",
     "output_type": "stream",
     "text": [
      "📌 Logistic Regression Results @ Threshold 0.5\n",
      "              precision    recall  f1-score   support\n",
      "\n",
      "           0       0.98      0.88      0.93       734\n",
      "           1       0.46      0.83      0.59        90\n",
      "\n",
      "    accuracy                           0.88       824\n",
      "   macro avg       0.72      0.86      0.76       824\n",
      "weighted avg       0.92      0.88      0.89       824\n",
      "\n"
     ]
    }
   ],
   "source": [
    "# Logistic Regression Predictions\n",
    "y_pred_lr = log_reg_pipeline.predict(X_test)\n",
    "y_prob_lr = log_reg_pipeline.predict_proba(X_test)[:, 1]\n",
    "\n",
    "print(\"📌 Logistic Regression Results @ Threshold 0.5\")\n",
    "print(classification_report(y_test, y_pred_lr))"
   ]
  },
  {
   "cell_type": "markdown",
   "id": "1336d89e-1134-4b7b-9a59-058a23336888",
   "metadata": {},
   "source": [
    "### Objective 12: Evaluation matrics oF Logistic Regression"
   ]
  },
  {
   "cell_type": "code",
   "execution_count": 21,
   "id": "922313ea-02ae-43c5-bf5f-e2bd1e69992a",
   "metadata": {},
   "outputs": [
    {
     "data": {
      "image/png": "[encoded data removed]",
      "text/plain": [
       "<Figure size 640x480 with 2 Axes>"
      ]
     },
     "metadata": {},
     "output_type": "display_data"
    },
    {
     "name": "stdout",
     "output_type": "stream",
     "text": [
      "✅ Confusion Matrix displayed above\n"
     ]
    }
   ],
   "source": [
    "# Confusion Matrix - Logistic Regression\n",
    "sns.heatmap(confusion_matrix(y_test, y_pred_lr), annot=True, fmt=\"d\", cmap=\"Blues\")\n",
    "plt.title(\"Logistic Regression - Confusion Matrix\")\n",
    "plt.show()\n",
    "print(\"✅ Confusion Matrix displayed above\")"
   ]
  },
  {
   "cell_type": "code",
   "execution_count": 22,
   "id": "f126b9fa-d7b1-45ea-b10d-a0d90d1d8587",
   "metadata": {},
   "outputs": [
    {
     "name": "stdout",
     "output_type": "stream",
     "text": [
      "[LogReg] Best Threshold: 0.580, Best F1: 0.6174\n"
     ]
    }
   ],
   "source": [
    "# Threshold Tuning - Logistic Regression\n",
    "prec, rec, thresh = precision_recall_curve(y_test, y_prob_lr)\n",
    "f1s = (2 * prec[:-1] * rec[:-1]) / (prec[:-1] + rec[:-1] + 1e-12)\n",
    "best_idx = np.argmax(f1s)\n",
    "best_thresh_lr = thresh[best_idx]\n",
    "best_f1_lr = f1s[best_idx]\n",
    "\n",
    "print(f\"[LogReg] Best Threshold: {best_thresh_lr:.3f}, Best F1: {best_f1_lr:.4f}\")"
   ]
  },
  {
   "cell_type": "code",
   "execution_count": 23,
   "id": "86c35952-90c3-471c-b510-6faa9d9106e0",
   "metadata": {},
   "outputs": [
    {
     "name": "stdout",
     "output_type": "stream",
     "text": [
      "📌 Logistic Regression @ Optimal Threshold\n",
      "              precision    recall  f1-score   support\n",
      "\n",
      "           0       0.97      0.91      0.94       734\n",
      "           1       0.51      0.79      0.62        90\n",
      "\n",
      "    accuracy                           0.89       824\n",
      "   macro avg       0.74      0.85      0.78       824\n",
      "weighted avg       0.92      0.89      0.90       824\n",
      "\n"
     ]
    }
   ],
   "source": [
    "# Logistic Regression - Optimal Threshold\n",
    "y_pred_lr_opt = (y_prob_lr >= best_thresh_lr).astype(int)\n",
    "print(\"📌 Logistic Regression @ Optimal Threshold\")\n",
    "print(classification_report(y_test, y_pred_lr_opt))"
   ]
  },
  {
   "cell_type": "code",
   "execution_count": 24,
   "id": "42169da8-86ee-4d43-be9c-53ee35ccd75a",
   "metadata": {},
   "outputs": [
    {
     "data": {
      "image/png": "[encoded data removed]",
      "text/plain": [
       "<Figure size 640x480 with 1 Axes>"
      ]
     },
     "metadata": {},
     "output_type": "display_data"
    },
    {
     "name": "stdout",
     "output_type": "stream",
     "text": [
      "✅ ROC Curve displayed above | AUC = 0.94\n"
     ]
    }
   ],
   "source": [
    "# ROC Curve - Logistic Regression\n",
    "fpr, tpr, _ = roc_curve(y_test, y_prob_lr)\n",
    "roc_auc = auc(fpr, tpr)\n",
    "\n",
    "plt.plot(fpr, tpr, label=f\"Logistic Regression (AUC={roc_auc:.2f})\")\n",
    "plt.plot([0, 1], [0, 1], 'k--')\n",
    "plt.xlabel(\"False Positive Rate (FPR)\")\n",
    "plt.ylabel(\"True Positive Rate (TPR)\")\n",
    "plt.title(\"ROC Curve - Logistic Regression\")\n",
    "plt.legend()\n",
    "plt.show()\n",
    "print(f\"✅ ROC Curve displayed above | AUC = {roc_auc:.2f}\")"
   ]
  },
  {
   "cell_type": "markdown",
   "id": "195b6897-db80-4073-a323-a49aa4bfbc29",
   "metadata": {},
   "source": [
    "### Objective 13: Define & Fit Random Forest"
   ]
  },
  {
   "cell_type": "code",
   "execution_count": 25,
   "id": "7cf17b1f-a8d4-4509-a945-f029af371d01",
   "metadata": {},
   "outputs": [
    {
     "name": "stdout",
     "output_type": "stream",
     "text": [
      "=== Random Forest model trained successfully ===\n"
     ]
    }
   ],
   "source": [
    "# STEP 5: Random Forest\n",
    "rf_pipeline = Pipeline(steps=[\n",
    "    ('preprocessor', preprocessor),\n",
    "    ('classifier', RandomForestClassifier(\n",
    "        n_estimators=200, \n",
    "        class_weight=\"balanced\", \n",
    "        random_state=42\n",
    "    ))\n",
    "])\n",
    "\n",
    "# Fit model\n",
    "rf_pipeline.fit(X_train, y_train)\n",
    "print(\"=== Random Forest model trained successfully ===\")"
   ]
  },
  {
   "cell_type": "markdown",
   "id": "54e36fe8-2eef-4533-bf62-c1ae305fa4d2",
   "metadata": {},
   "source": [
    "### Objective 14: Train & Test Accuracy"
   ]
  },
  {
   "cell_type": "code",
   "execution_count": 26,
   "id": "47d6c374-7c08-4469-8d50-709cb8e8d1c1",
   "metadata": {},
   "outputs": [
    {
     "name": "stdout",
     "output_type": "stream",
     "text": [
      "=== Random Forest Accuracy ===\n",
      "Train Accuracy: 1.0000\n",
      "Test Accuracy : 0.9078\n"
     ]
    }
   ],
   "source": [
    "# Predictions for accuracy calculation\n",
    "y_pred_rf_train = rf_pipeline.predict(X_train)\n",
    "y_pred_rf = rf_pipeline.predict(X_test)\n",
    "\n",
    "train_acc_rf = accuracy_score(y_train, y_pred_rf_train)\n",
    "test_acc_rf = accuracy_score(y_test, y_pred_rf)\n",
    "\n",
    "print(\"=== Random Forest Accuracy ===\")\n",
    "print(f\"Train Accuracy: {train_acc_rf:.4f}\")\n",
    "print(f\"Test Accuracy : {test_acc_rf:.4f}\")"
   ]
  },
  {
   "cell_type": "markdown",
   "id": "4e24e317-a880-4c90-ae78-a670169725aa",
   "metadata": {},
   "source": [
    "### Objective 15: Classification Report & Confusion Matrix"
   ]
  },
  {
   "cell_type": "code",
   "execution_count": 27,
   "id": "8a09b493-75d2-4b62-886b-a275c67df578",
   "metadata": {},
   "outputs": [
    {
     "name": "stdout",
     "output_type": "stream",
     "text": [
      "=== Random Forest Results @ Threshold = 0.5 ===\n",
      "              precision    recall  f1-score   support\n",
      "\n",
      "           0       0.91      0.99      0.95       734\n",
      "           1       0.73      0.24      0.37        90\n",
      "\n",
      "    accuracy                           0.91       824\n",
      "   macro avg       0.82      0.62      0.66       824\n",
      "weighted avg       0.89      0.91      0.89       824\n",
      "\n"
     ]
    },
    {
     "data": {
      "image/png": "[encoded data removed]",
      "text/plain": [
       "<Figure size 500x400 with 2 Axes>"
      ]
     },
     "metadata": {},
     "output_type": "display_data"
    }
   ],
   "source": [
    "print(\"=== Random Forest Results @ Threshold = 0.5 ===\")\n",
    "print(classification_report(y_test, y_pred_rf))\n",
    "\n",
    "plt.figure(figsize=(5,4))\n",
    "sns.heatmap(confusion_matrix(y_test, y_pred_rf), annot=True, fmt=\"d\", cmap=\"Blues\")\n",
    "plt.title(\"Random Forest - Confusion Matrix (0.5)\")\n",
    "plt.xlabel(\"Predicted\")\n",
    "plt.ylabel(\"Actual\")\n",
    "plt.show()"
   ]
  },
  {
   "cell_type": "markdown",
   "id": "4cfcb023-2688-4fc0-8e7c-932f164465f9",
   "metadata": {},
   "source": [
    "### Objective 16: Threshold Tuning for Best F1"
   ]
  },
  {
   "cell_type": "code",
   "execution_count": 28,
   "id": "5156924c-cccb-4112-8ed3-785b6f0d7dfe",
   "metadata": {},
   "outputs": [
    {
     "name": "stdout",
     "output_type": "stream",
     "text": [
      "=== Random Forest Optimal Threshold ===\n",
      "Best Threshold: 0.140\n",
      "Best F1 Score : 0.6103\n",
      "\n",
      "Classification Report @ Optimal Threshold\n",
      "              precision    recall  f1-score   support\n",
      "\n",
      "           0       0.99      0.87      0.92       734\n",
      "           1       0.46      0.92      0.61        90\n",
      "\n",
      "    accuracy                           0.87       824\n",
      "   macro avg       0.72      0.89      0.77       824\n",
      "weighted avg       0.93      0.87      0.89       824\n",
      "\n"
     ]
    }
   ],
   "source": [
    "y_prob_rf = rf_pipeline.predict_proba(X_test)[:, 1]\n",
    "\n",
    "prec_rf, rec_rf, thresh_rf = precision_recall_curve(y_test, y_prob_rf)\n",
    "f1s_rf = (2 * prec_rf[:-1] * rec_rf[:-1]) / (prec_rf[:-1] + rec_rf[:-1] + 1e-12)\n",
    "\n",
    "best_idx_rf = np.argmax(f1s_rf)\n",
    "best_thresh_rf = thresh_rf[best_idx_rf]\n",
    "best_f1_rf = f1s_rf[best_idx_rf]\n",
    "\n",
    "print(\"=== Random Forest Optimal Threshold ===\")\n",
    "print(f\"Best Threshold: {best_thresh_rf:.3f}\")\n",
    "print(f\"Best F1 Score : {best_f1_rf:.4f}\")\n",
    "\n",
    "# Predictions with optimal threshold\n",
    "y_pred_rf_opt = (y_prob_rf >= best_thresh_rf).astype(int)\n",
    "print(\"\\nClassification Report @ Optimal Threshold\")\n",
    "print(classification_report(y_test, y_pred_rf_opt))"
   ]
  },
  {
   "cell_type": "markdown",
   "id": "80d35f46-c8da-4105-9e5b-526d49fd13af",
   "metadata": {},
   "source": [
    "### Objective 17: ROC Curve"
   ]
  },
  {
   "cell_type": "code",
   "execution_count": 29,
   "id": "726bf175-33f0-457d-ae04-bd703527462d",
   "metadata": {},
   "outputs": [
    {
     "data": {
      "image/png": "[encoded data removed]",
      "text/plain": [
       "<Figure size 600x500 with 1 Axes>"
      ]
     },
     "metadata": {},
     "output_type": "display_data"
    }
   ],
   "source": [
    "fpr_rf, tpr_rf, _ = roc_curve(y_test, y_prob_rf)\n",
    "roc_auc_rf = auc(fpr_rf, tpr_rf)\n",
    "\n",
    "plt.figure(figsize=(6,5))\n",
    "plt.plot(fpr_rf, tpr_rf, label=f\"Random Forest (AUC={roc_auc_rf:.2f})\")\n",
    "plt.plot([0, 1], [0, 1], 'k--')\n",
    "plt.xlabel(\"False Positive Rate\")\n",
    "plt.ylabel(\"True Positive Rate\")\n",
    "plt.title(\"ROC Curve - Random Forest\")\n",
    "plt.legend()\n",
    "plt.show()"
   ]
  },
  {
   "cell_type": "markdown",
   "id": "a1d7557b-1ffd-4c9d-9c6c-df0015115238",
   "metadata": {},
   "source": [
    "### Objective 18: Preprocess Data for LIME"
   ]
  },
  {
   "cell_type": "code",
   "execution_count": 30,
   "id": "5765f9b9-4c03-4648-a182-2d3bf2e07999",
   "metadata": {},
   "outputs": [
    {
     "name": "stdout",
     "output_type": "stream",
     "text": [
      "=== Data Prepared for LIME ===\n",
      "Training samples: (3295, 63)\n",
      "Test samples    : (824, 63)\n",
      "Total features  : 63\n"
     ]
    }
   ],
   "source": [
    "# Preprocess train/test data (convert to numeric)\n",
    "X_train_processed = preprocessor.fit_transform(X_train)\n",
    "X_test_processed = preprocessor.transform(X_test)\n",
    "\n",
    "# Convert sparse to dense if necessary\n",
    "X_train_dense = X_train_processed.toarray() if hasattr(X_train_processed, \"toarray\") else np.asarray(X_train_processed)\n",
    "X_test_dense = X_test_processed.toarray() if hasattr(X_test_processed, \"toarray\") else np.asarray(X_test_processed)\n",
    "\n",
    "# Get feature names\n",
    "feature_names = preprocessor.get_feature_names_out()\n",
    "\n",
    "print(\"=== Data Prepared for LIME ===\")\n",
    "print(f\"Training samples: {X_train_dense.shape}\")\n",
    "print(f\"Test samples    : {X_test_dense.shape}\")\n",
    "print(f\"Total features  : {len(feature_names)}\")"
   ]
  },
  {
   "cell_type": "markdown",
   "id": "e2b8144b-ad8c-4347-a00b-9a48a6f282bd",
   "metadata": {},
   "source": [
    "### Objective 19: Define LIME Explainer"
   ]
  },
  {
   "cell_type": "code",
   "execution_count": 32,
   "id": "ab4c1069-1c60-4bab-908e-8961dc81cf11",
   "metadata": {},
   "outputs": [
    {
     "name": "stdout",
     "output_type": "stream",
     "text": [
      "=== LIME Explainer Defined ===\n",
      "Mode           : Classification\n",
      "Class names    : ['No', 'Yes']\n",
      "Sample feature : ['num__age' 'num__duration' 'num__campaign' 'num__pdays' 'num__previous'] ...\n"
     ]
    }
   ],
   "source": [
    "# Define LIME explainer\n",
    "from lime.lime_tabular import LimeTabularExplainer\n",
    "explainer = LimeTabularExplainer(\n",
    "    training_data=X_train_dense,\n",
    "    feature_names=feature_names,\n",
    "    class_names=[\"No\", \"Yes\"],\n",
    "    mode=\"classification\"\n",
    ")\n",
    "\n",
    "# Wrapper for Random Forest classifier\n",
    "def rf_predict_proba(x):\n",
    "    return rf_pipeline.named_steps[\"classifier\"].predict_proba(x)\n",
    "\n",
    "print(\"=== LIME Explainer Defined ===\")\n",
    "print(f\"Mode           : Classification\")\n",
    "print(f\"Class names    : {explainer.class_names}\")\n",
    "print(f\"Sample feature : {feature_names[:5]} ...\")"
   ]
  },
  {
   "cell_type": "markdown",
   "id": "0c033f02-00e2-4078-bd8e-4553520afe2f",
   "metadata": {},
   "source": [
    "### Objective 20: Generate Explanation for One Instance"
   ]
  },
  {
   "cell_type": "code",
   "execution_count": 33,
   "id": "091e3656-2517-465c-ba3c-5b2ed618a299",
   "metadata": {},
   "outputs": [
    {
     "name": "stdout",
     "output_type": "stream",
     "text": [
      "=== LIME Explanation Generated ===\n",
      "Test instance index: 10\n",
      "Top 10 contributing features shown in visualization below\n"
     ]
    }
   ],
   "source": [
    "# Pick a test instance\n",
    "i = 10\n",
    "\n",
    "# Generate explanation\n",
    "exp = explainer.explain_instance(\n",
    "    X_test_dense[i],\n",
    "    rf_predict_proba,\n",
    "    num_features=10\n",
    ")\n",
    "\n",
    "print(f\"=== LIME Explanation Generated ===\")\n",
    "print(f\"Test instance index: {i}\")\n",
    "print(f\"Top {10} contributing features shown in visualization below\")"
   ]
  },
  {
   "cell_type": "markdown",
   "id": "e82e6898-4a55-4917-9904-79657ed516a5",
   "metadata": {},
   "source": [
    "### Objective 21: Visualize Explanation"
   ]
  },
  {
   "cell_type": "code",
   "execution_count": 34,
   "id": "633de2ca-5359-41ef-a506-796775689e12",
   "metadata": {},
   "outputs": [
    {
     "data": {
      "image/png": "[encoded data removed]",
      "text/plain": [
       "<Figure size 640x480 with 1 Axes>"
      ]
     },
     "metadata": {},
     "output_type": "display_data"
    }
   ],
   "source": [
    "# Visualization\n",
    "fig = exp.as_pyplot_figure(label=1)  # label=1 = \"Yes\"\n",
    "plt.title(f\"LIME Explanation for Test Instance {i}\", fontsize=14, weight=\"bold\")\n",
    "plt.xlabel(\"Feature Contribution →\", fontsize=12)\n",
    "plt.ylabel(\"Features\", fontsize=12)\n",
    "plt.tight_layout()\n",
    "plt.show()"
   ]
  },
  {
   "cell_type": "markdown",
   "id": "9d690a69-1c4e-4717-a340-829e5af93d79",
   "metadata": {},
   "source": [
    "### Objective 22: Structured Feature Contribution Table"
   ]
  },
  {
   "cell_type": "code",
   "execution_count": 35,
   "id": "ce717e31-e654-4686-b60d-9eb7afadae69",
   "metadata": {},
   "outputs": [
    {
     "name": "stdout",
     "output_type": "stream",
     "text": [
      "=== LIME Feature Contributions ===\n"
     ]
    },
    {
     "data": {
      "text/html": [
       "<div>\n",
       "<style scoped>\n",
       "    .dataframe tbody tr th:only-of-type {\n",
       "        vertical-align: middle;\n",
       "    }\n",
       "\n",
       "    .dataframe tbody tr th {\n",
       "        vertical-align: top;\n",
       "    }\n",
       "\n",
       "    .dataframe thead th {\n",
       "        text-align: right;\n",
       "    }\n",
       "</style>\n",
       "<table border=\"1\" class=\"dataframe\">\n",
       "  <thead>\n",
       "    <tr style=\"text-align: right;\">\n",
       "      <th></th>\n",
       "      <th>Feature</th>\n",
       "      <th>Contribution</th>\n",
       "    </tr>\n",
       "  </thead>\n",
       "  <tbody>\n",
       "    <tr>\n",
       "      <th>0</th>\n",
       "      <td>-0.60 &lt; num__duration &lt;= -0.30</td>\n",
       "      <td>-0.073131</td>\n",
       "    </tr>\n",
       "    <tr>\n",
       "      <th>1</th>\n",
       "      <td>cat__month_mar &lt;= 0.00</td>\n",
       "      <td>-0.061967</td>\n",
       "    </tr>\n",
       "    <tr>\n",
       "      <th>2</th>\n",
       "      <td>cat__month_oct &lt;= 0.00</td>\n",
       "      <td>-0.057112</td>\n",
       "    </tr>\n",
       "    <tr>\n",
       "      <th>3</th>\n",
       "      <td>cat__education_illiterate &lt;= 0.00</td>\n",
       "      <td>0.042109</td>\n",
       "    </tr>\n",
       "    <tr>\n",
       "      <th>4</th>\n",
       "      <td>0.34 &lt; num__nr.employed &lt;= 0.84</td>\n",
       "      <td>-0.041729</td>\n",
       "    </tr>\n",
       "    <tr>\n",
       "      <th>5</th>\n",
       "      <td>0.66 &lt; num__emp.var.rate &lt;= 0.85</td>\n",
       "      <td>-0.035078</td>\n",
       "    </tr>\n",
       "    <tr>\n",
       "      <th>6</th>\n",
       "      <td>cat__month_dec &lt;= 0.00</td>\n",
       "      <td>-0.028316</td>\n",
       "    </tr>\n",
       "    <tr>\n",
       "      <th>7</th>\n",
       "      <td>cat__job_unknown &lt;= 0.00</td>\n",
       "      <td>-0.027822</td>\n",
       "    </tr>\n",
       "    <tr>\n",
       "      <th>8</th>\n",
       "      <td>cat__marital_unknown &lt;= 0.00</td>\n",
       "      <td>0.027412</td>\n",
       "    </tr>\n",
       "    <tr>\n",
       "      <th>9</th>\n",
       "      <td>cat__poutcome_success &lt;= 0.00</td>\n",
       "      <td>-0.026677</td>\n",
       "    </tr>\n",
       "  </tbody>\n",
       "</table>\n",
       "</div>"
      ],
      "text/plain": [
       "                             Feature  Contribution\n",
       "0     -0.60 < num__duration <= -0.30     -0.073131\n",
       "1             cat__month_mar <= 0.00     -0.061967\n",
       "2             cat__month_oct <= 0.00     -0.057112\n",
       "3  cat__education_illiterate <= 0.00      0.042109\n",
       "4    0.34 < num__nr.employed <= 0.84     -0.041729\n",
       "5   0.66 < num__emp.var.rate <= 0.85     -0.035078\n",
       "6             cat__month_dec <= 0.00     -0.028316\n",
       "7           cat__job_unknown <= 0.00     -0.027822\n",
       "8       cat__marital_unknown <= 0.00      0.027412\n",
       "9      cat__poutcome_success <= 0.00     -0.026677"
      ]
     },
     "metadata": {},
     "output_type": "display_data"
    }
   ],
   "source": [
    "# Convert explanation into a table\n",
    "exp_features = exp.as_list(label=1)   # label=1 = \"Yes\"\n",
    "lime_df = pd.DataFrame(exp_features, columns=[\"Feature\", \"Contribution\"])\n",
    "\n",
    "print(\"=== LIME Feature Contributions ===\")\n",
    "display(lime_df)"
   ]
  }
 ],
 "metadata": {
  "kernelspec": {
   "display_name": "Python 3 (ipykernel)",
   "language": "python",
   "name": "python3"
  },
  "language_info": {
   "codemirror_mode": {
    "name": "ipython",
    "version": 3
   },
   "file_extension": ".py",
   "mimetype": "text/x-python",
   "name": "python",
   "nbconvert_exporter": "python",
   "pygments_lexer": "ipython3",
   "version": "3.13.2"
  }
 },
 "nbformat": 4,
 "nbformat_minor": 5
}
